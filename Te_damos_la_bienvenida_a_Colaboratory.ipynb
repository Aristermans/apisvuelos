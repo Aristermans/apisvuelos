{
  "cells": [
    {
      "cell_type": "markdown",
      "metadata": {
        "id": "view-in-github",
        "colab_type": "text"
      },
      "source": [
        "<a href=\"https://colab.research.google.com/github/Aristermans/apisvuelos/blob/main/Te_damos_la_bienvenida_a_Colaboratory.ipynb\" target=\"_parent\"><img src=\"https://colab.research.google.com/assets/colab-badge.svg\" alt=\"Open In Colab\"/></a>"
      ]
    },
    {
      "cell_type": "code",
      "source": [
        "from google.colab import files\n",
        "uploaded = files.upload()\n"
      ],
      "metadata": {
        "id": "XZLeTpe8hxME",
        "outputId": "3492442e-d994-4234-f49c-e02bdc7ffc4e",
        "colab": {
          "base_uri": "https://localhost:8080/",
          "height": 73
        }
      },
      "execution_count": 1,
      "outputs": [
        {
          "output_type": "display_data",
          "data": {
            "text/plain": [
              "<IPython.core.display.HTML object>"
            ],
            "text/html": [
              "\n",
              "     <input type=\"file\" id=\"files-3f885777-361d-4e4a-ad81-c5f555fff1b9\" name=\"files[]\" multiple disabled\n",
              "        style=\"border:none\" />\n",
              "     <output id=\"result-3f885777-361d-4e4a-ad81-c5f555fff1b9\">\n",
              "      Upload widget is only available when the cell has been executed in the\n",
              "      current browser session. Please rerun this cell to enable.\n",
              "      </output>\n",
              "      <script>// Copyright 2017 Google LLC\n",
              "//\n",
              "// Licensed under the Apache License, Version 2.0 (the \"License\");\n",
              "// you may not use this file except in compliance with the License.\n",
              "// You may obtain a copy of the License at\n",
              "//\n",
              "//      http://www.apache.org/licenses/LICENSE-2.0\n",
              "//\n",
              "// Unless required by applicable law or agreed to in writing, software\n",
              "// distributed under the License is distributed on an \"AS IS\" BASIS,\n",
              "// WITHOUT WARRANTIES OR CONDITIONS OF ANY KIND, either express or implied.\n",
              "// See the License for the specific language governing permissions and\n",
              "// limitations under the License.\n",
              "\n",
              "/**\n",
              " * @fileoverview Helpers for google.colab Python module.\n",
              " */\n",
              "(function(scope) {\n",
              "function span(text, styleAttributes = {}) {\n",
              "  const element = document.createElement('span');\n",
              "  element.textContent = text;\n",
              "  for (const key of Object.keys(styleAttributes)) {\n",
              "    element.style[key] = styleAttributes[key];\n",
              "  }\n",
              "  return element;\n",
              "}\n",
              "\n",
              "// Max number of bytes which will be uploaded at a time.\n",
              "const MAX_PAYLOAD_SIZE = 100 * 1024;\n",
              "\n",
              "function _uploadFiles(inputId, outputId) {\n",
              "  const steps = uploadFilesStep(inputId, outputId);\n",
              "  const outputElement = document.getElementById(outputId);\n",
              "  // Cache steps on the outputElement to make it available for the next call\n",
              "  // to uploadFilesContinue from Python.\n",
              "  outputElement.steps = steps;\n",
              "\n",
              "  return _uploadFilesContinue(outputId);\n",
              "}\n",
              "\n",
              "// This is roughly an async generator (not supported in the browser yet),\n",
              "// where there are multiple asynchronous steps and the Python side is going\n",
              "// to poll for completion of each step.\n",
              "// This uses a Promise to block the python side on completion of each step,\n",
              "// then passes the result of the previous step as the input to the next step.\n",
              "function _uploadFilesContinue(outputId) {\n",
              "  const outputElement = document.getElementById(outputId);\n",
              "  const steps = outputElement.steps;\n",
              "\n",
              "  const next = steps.next(outputElement.lastPromiseValue);\n",
              "  return Promise.resolve(next.value.promise).then((value) => {\n",
              "    // Cache the last promise value to make it available to the next\n",
              "    // step of the generator.\n",
              "    outputElement.lastPromiseValue = value;\n",
              "    return next.value.response;\n",
              "  });\n",
              "}\n",
              "\n",
              "/**\n",
              " * Generator function which is called between each async step of the upload\n",
              " * process.\n",
              " * @param {string} inputId Element ID of the input file picker element.\n",
              " * @param {string} outputId Element ID of the output display.\n",
              " * @return {!Iterable<!Object>} Iterable of next steps.\n",
              " */\n",
              "function* uploadFilesStep(inputId, outputId) {\n",
              "  const inputElement = document.getElementById(inputId);\n",
              "  inputElement.disabled = false;\n",
              "\n",
              "  const outputElement = document.getElementById(outputId);\n",
              "  outputElement.innerHTML = '';\n",
              "\n",
              "  const pickedPromise = new Promise((resolve) => {\n",
              "    inputElement.addEventListener('change', (e) => {\n",
              "      resolve(e.target.files);\n",
              "    });\n",
              "  });\n",
              "\n",
              "  const cancel = document.createElement('button');\n",
              "  inputElement.parentElement.appendChild(cancel);\n",
              "  cancel.textContent = 'Cancel upload';\n",
              "  const cancelPromise = new Promise((resolve) => {\n",
              "    cancel.onclick = () => {\n",
              "      resolve(null);\n",
              "    };\n",
              "  });\n",
              "\n",
              "  // Wait for the user to pick the files.\n",
              "  const files = yield {\n",
              "    promise: Promise.race([pickedPromise, cancelPromise]),\n",
              "    response: {\n",
              "      action: 'starting',\n",
              "    }\n",
              "  };\n",
              "\n",
              "  cancel.remove();\n",
              "\n",
              "  // Disable the input element since further picks are not allowed.\n",
              "  inputElement.disabled = true;\n",
              "\n",
              "  if (!files) {\n",
              "    return {\n",
              "      response: {\n",
              "        action: 'complete',\n",
              "      }\n",
              "    };\n",
              "  }\n",
              "\n",
              "  for (const file of files) {\n",
              "    const li = document.createElement('li');\n",
              "    li.append(span(file.name, {fontWeight: 'bold'}));\n",
              "    li.append(span(\n",
              "        `(${file.type || 'n/a'}) - ${file.size} bytes, ` +\n",
              "        `last modified: ${\n",
              "            file.lastModifiedDate ? file.lastModifiedDate.toLocaleDateString() :\n",
              "                                    'n/a'} - `));\n",
              "    const percent = span('0% done');\n",
              "    li.appendChild(percent);\n",
              "\n",
              "    outputElement.appendChild(li);\n",
              "\n",
              "    const fileDataPromise = new Promise((resolve) => {\n",
              "      const reader = new FileReader();\n",
              "      reader.onload = (e) => {\n",
              "        resolve(e.target.result);\n",
              "      };\n",
              "      reader.readAsArrayBuffer(file);\n",
              "    });\n",
              "    // Wait for the data to be ready.\n",
              "    let fileData = yield {\n",
              "      promise: fileDataPromise,\n",
              "      response: {\n",
              "        action: 'continue',\n",
              "      }\n",
              "    };\n",
              "\n",
              "    // Use a chunked sending to avoid message size limits. See b/62115660.\n",
              "    let position = 0;\n",
              "    do {\n",
              "      const length = Math.min(fileData.byteLength - position, MAX_PAYLOAD_SIZE);\n",
              "      const chunk = new Uint8Array(fileData, position, length);\n",
              "      position += length;\n",
              "\n",
              "      const base64 = btoa(String.fromCharCode.apply(null, chunk));\n",
              "      yield {\n",
              "        response: {\n",
              "          action: 'append',\n",
              "          file: file.name,\n",
              "          data: base64,\n",
              "        },\n",
              "      };\n",
              "\n",
              "      let percentDone = fileData.byteLength === 0 ?\n",
              "          100 :\n",
              "          Math.round((position / fileData.byteLength) * 100);\n",
              "      percent.textContent = `${percentDone}% done`;\n",
              "\n",
              "    } while (position < fileData.byteLength);\n",
              "  }\n",
              "\n",
              "  // All done.\n",
              "  yield {\n",
              "    response: {\n",
              "      action: 'complete',\n",
              "    }\n",
              "  };\n",
              "}\n",
              "\n",
              "scope.google = scope.google || {};\n",
              "scope.google.colab = scope.google.colab || {};\n",
              "scope.google.colab._files = {\n",
              "  _uploadFiles,\n",
              "  _uploadFilesContinue,\n",
              "};\n",
              "})(self);\n",
              "</script> "
            ]
          },
          "metadata": {}
        },
        {
          "output_type": "stream",
          "name": "stdout",
          "text": [
            "Saving Online Retail.xlsx to Online Retail.xlsx\n"
          ]
        }
      ]
    },
    {
      "cell_type": "markdown",
      "source": [
        "# \"Online Retail\"\n",
        "Este dataset contiene datos de transacciones de una tienda online del Reino Unido entre 2010 y 2011.\n",
        "\n",
        "📊 Características del dataset:\n",
        "InvoiceNo: Número de factura\n",
        "\n",
        "StockCode: Código del producto\n",
        "\n",
        "Description: Nombre del producto\n",
        "\n",
        "Quantity: Cantidad comprada\n",
        "\n",
        "InvoiceDate: Fecha de la compra\n",
        "\n",
        "UnitPrice: Precio unitario\n",
        "\n",
        "CustomerID: ID del cliente\n",
        "\n",
        "Country: País\n",
        "\n"
      ],
      "metadata": {
        "id": "2szwmE9lmIUx"
      }
    },
    {
      "cell_type": "code",
      "source": [
        "\n",
        "install.packages(\"readxl\", repos='http://cran.us.r-project.org')\n",
        "install.packages(\"h2o\", repos='http://cran.us.r-project.org')\n",
        "library(readxl)\n",
        "library(h2o)\n",
        "\n",
        "# Leer el archivo (ajusta el nombre si subiste otro)\n",
        "datos <- read_excel(\"Online Retail.xlsx\")\n",
        "\n",
        "# Mostrar las primeras filas\n",
        "head(datos)\n"
      ],
      "metadata": {
        "id": "1YLql8-ZiFSN",
        "outputId": "04133eeb-8b27-4155-b498-4dd797346e39",
        "colab": {
          "base_uri": "https://localhost:8080/",
          "height": 390
        }
      },
      "execution_count": 2,
      "outputs": [
        {
          "output_type": "stream",
          "name": "stderr",
          "text": [
            "Installing package into ‘/usr/local/lib/R/site-library’\n",
            "(as ‘lib’ is unspecified)\n",
            "\n",
            "Installing package into ‘/usr/local/lib/R/site-library’\n",
            "(as ‘lib’ is unspecified)\n",
            "\n"
          ]
        },
        {
          "output_type": "display_data",
          "data": {
            "text/html": [
              "<table class=\"dataframe\">\n",
              "<caption>A tibble: 6 × 8</caption>\n",
              "<thead>\n",
              "\t<tr><th scope=col>InvoiceNo</th><th scope=col>StockCode</th><th scope=col>Description</th><th scope=col>Quantity</th><th scope=col>InvoiceDate</th><th scope=col>UnitPrice</th><th scope=col>CustomerID</th><th scope=col>Country</th></tr>\n",
              "\t<tr><th scope=col>&lt;chr&gt;</th><th scope=col>&lt;chr&gt;</th><th scope=col>&lt;chr&gt;</th><th scope=col>&lt;dbl&gt;</th><th scope=col>&lt;dttm&gt;</th><th scope=col>&lt;dbl&gt;</th><th scope=col>&lt;dbl&gt;</th><th scope=col>&lt;chr&gt;</th></tr>\n",
              "</thead>\n",
              "<tbody>\n",
              "\t<tr><td>536365</td><td>85123A</td><td>WHITE HANGING HEART T-LIGHT HOLDER </td><td>6</td><td>2010-12-01 08:26:00</td><td>2.55</td><td>17850</td><td>United Kingdom</td></tr>\n",
              "\t<tr><td>536365</td><td>71053 </td><td>WHITE METAL LANTERN                </td><td>6</td><td>2010-12-01 08:26:00</td><td>3.39</td><td>17850</td><td>United Kingdom</td></tr>\n",
              "\t<tr><td>536365</td><td>84406B</td><td>CREAM CUPID HEARTS COAT HANGER     </td><td>8</td><td>2010-12-01 08:26:00</td><td>2.75</td><td>17850</td><td>United Kingdom</td></tr>\n",
              "\t<tr><td>536365</td><td>84029G</td><td>KNITTED UNION FLAG HOT WATER BOTTLE</td><td>6</td><td>2010-12-01 08:26:00</td><td>3.39</td><td>17850</td><td>United Kingdom</td></tr>\n",
              "\t<tr><td>536365</td><td>84029E</td><td>RED WOOLLY HOTTIE WHITE HEART.     </td><td>6</td><td>2010-12-01 08:26:00</td><td>3.39</td><td>17850</td><td>United Kingdom</td></tr>\n",
              "\t<tr><td>536365</td><td>22752 </td><td>SET 7 BABUSHKA NESTING BOXES       </td><td>2</td><td>2010-12-01 08:26:00</td><td>7.65</td><td>17850</td><td>United Kingdom</td></tr>\n",
              "</tbody>\n",
              "</table>\n"
            ],
            "text/markdown": "\nA tibble: 6 × 8\n\n| InvoiceNo &lt;chr&gt; | StockCode &lt;chr&gt; | Description &lt;chr&gt; | Quantity &lt;dbl&gt; | InvoiceDate &lt;dttm&gt; | UnitPrice &lt;dbl&gt; | CustomerID &lt;dbl&gt; | Country &lt;chr&gt; |\n|---|---|---|---|---|---|---|---|\n| 536365 | 85123A | WHITE HANGING HEART T-LIGHT HOLDER  | 6 | 2010-12-01 08:26:00 | 2.55 | 17850 | United Kingdom |\n| 536365 | 71053  | WHITE METAL LANTERN                 | 6 | 2010-12-01 08:26:00 | 3.39 | 17850 | United Kingdom |\n| 536365 | 84406B | CREAM CUPID HEARTS COAT HANGER      | 8 | 2010-12-01 08:26:00 | 2.75 | 17850 | United Kingdom |\n| 536365 | 84029G | KNITTED UNION FLAG HOT WATER BOTTLE | 6 | 2010-12-01 08:26:00 | 3.39 | 17850 | United Kingdom |\n| 536365 | 84029E | RED WOOLLY HOTTIE WHITE HEART.      | 6 | 2010-12-01 08:26:00 | 3.39 | 17850 | United Kingdom |\n| 536365 | 22752  | SET 7 BABUSHKA NESTING BOXES        | 2 | 2010-12-01 08:26:00 | 7.65 | 17850 | United Kingdom |\n\n",
            "text/latex": "A tibble: 6 × 8\n\\begin{tabular}{llllllll}\n InvoiceNo & StockCode & Description & Quantity & InvoiceDate & UnitPrice & CustomerID & Country\\\\\n <chr> & <chr> & <chr> & <dbl> & <dttm> & <dbl> & <dbl> & <chr>\\\\\n\\hline\n\t 536365 & 85123A & WHITE HANGING HEART T-LIGHT HOLDER  & 6 & 2010-12-01 08:26:00 & 2.55 & 17850 & United Kingdom\\\\\n\t 536365 & 71053  & WHITE METAL LANTERN                 & 6 & 2010-12-01 08:26:00 & 3.39 & 17850 & United Kingdom\\\\\n\t 536365 & 84406B & CREAM CUPID HEARTS COAT HANGER      & 8 & 2010-12-01 08:26:00 & 2.75 & 17850 & United Kingdom\\\\\n\t 536365 & 84029G & KNITTED UNION FLAG HOT WATER BOTTLE & 6 & 2010-12-01 08:26:00 & 3.39 & 17850 & United Kingdom\\\\\n\t 536365 & 84029E & RED WOOLLY HOTTIE WHITE HEART.      & 6 & 2010-12-01 08:26:00 & 3.39 & 17850 & United Kingdom\\\\\n\t 536365 & 22752  & SET 7 BABUSHKA NESTING BOXES        & 2 & 2010-12-01 08:26:00 & 7.65 & 17850 & United Kingdom\\\\\n\\end{tabular}\n",
            "text/plain": [
              "  InvoiceNo StockCode Description                         Quantity\n",
              "1 536365    85123A    WHITE HANGING HEART T-LIGHT HOLDER  6       \n",
              "2 536365    71053     WHITE METAL LANTERN                 6       \n",
              "3 536365    84406B    CREAM CUPID HEARTS COAT HANGER      8       \n",
              "4 536365    84029G    KNITTED UNION FLAG HOT WATER BOTTLE 6       \n",
              "5 536365    84029E    RED WOOLLY HOTTIE WHITE HEART.      6       \n",
              "6 536365    22752     SET 7 BABUSHKA NESTING BOXES        2       \n",
              "  InvoiceDate         UnitPrice CustomerID Country       \n",
              "1 2010-12-01 08:26:00 2.55      17850      United Kingdom\n",
              "2 2010-12-01 08:26:00 3.39      17850      United Kingdom\n",
              "3 2010-12-01 08:26:00 2.75      17850      United Kingdom\n",
              "4 2010-12-01 08:26:00 3.39      17850      United Kingdom\n",
              "5 2010-12-01 08:26:00 3.39      17850      United Kingdom\n",
              "6 2010-12-01 08:26:00 7.65      17850      United Kingdom"
            ]
          },
          "metadata": {}
        }
      ]
    },
    {
      "cell_type": "code",
      "source": [
        "\n",
        "# Elimina NA\n",
        "datos <- na.omit(datos)\n",
        "\n",
        "# Crea columna TotalVentas (ajusta según columnas de tu archivo)\n",
        "datos$TotalVentas <- datos$Quantity * datos$UnitPrice\n",
        "\n",
        "# Verifica\n",
        "summary(datos$TotalVentas)\n"
      ],
      "metadata": {
        "id": "Z_sAd7KriS7O",
        "outputId": "87b5bf68-f15a-4eed-fc9a-7d4ce16394fc",
        "colab": {
          "base_uri": "https://localhost:8080/",
          "height": 52
        }
      },
      "execution_count": 3,
      "outputs": [
        {
          "output_type": "display_data",
          "data": {
            "text/plain": [
              "     Min.   1st Qu.    Median      Mean   3rd Qu.      Max. \n",
              "-168469.6       4.2      11.1      20.4      19.5  168469.6 "
            ]
          },
          "metadata": {}
        }
      ]
    },
    {
      "cell_type": "code",
      "source": [
        "\n",
        "h2o.init()\n",
        "datos_h2o <- as.h2o(datos)\n"
      ],
      "metadata": {
        "id": "A7hwprSQiy7T",
        "outputId": "3c490cdd-ed0f-4622-b9c8-57bc54d07adb",
        "colab": {
          "base_uri": "https://localhost:8080/"
        }
      },
      "execution_count": 4,
      "outputs": [
        {
          "output_type": "stream",
          "name": "stdout",
          "text": [
            "\n",
            "H2O is not running yet, starting it now...\n",
            "\n",
            "Note:  In case of errors look at the following log files:\n",
            "    /tmp/Rtmp5L8ZgK/file56b361afb59/h2o_UnknownUser_started_from_r.out\n",
            "    /tmp/Rtmp5L8ZgK/file56b18ee9fad/h2o_UnknownUser_started_from_r.err\n",
            "\n",
            "\n",
            "Starting H2O JVM and connecting: ..... Connection successful!\n",
            "\n",
            "R is connected to the H2O cluster: \n",
            "    H2O cluster uptime:         3 seconds 907 milliseconds \n",
            "    H2O cluster timezone:       Etc/UTC \n",
            "    H2O data parsing timezone:  UTC \n",
            "    H2O cluster version:        3.44.0.3 \n",
            "    H2O cluster version age:    1 year, 5 months and 20 days \n",
            "    H2O cluster name:           H2O_started_from_R_root_ulh137 \n",
            "    H2O cluster total nodes:    1 \n",
            "    H2O cluster total memory:   3.17 GB \n",
            "    H2O cluster total cores:    2 \n",
            "    H2O cluster allowed cores:  2 \n",
            "    H2O cluster healthy:        TRUE \n",
            "    H2O Connection ip:          localhost \n",
            "    H2O Connection port:        54321 \n",
            "    H2O Connection proxy:       NA \n",
            "    H2O Internal Security:      FALSE \n",
            "    R Version:                  R version 4.5.0 (2025-04-11) \n"
          ]
        },
        {
          "output_type": "stream",
          "name": "stderr",
          "text": [
            "Warning message in h2o.clusterInfo():\n",
            "“\n",
            "Your H2O cluster version is (1 year, 5 months and 20 days) old. There may be a newer version available.\n",
            "Please download and install the latest version from: https://h2o-release.s3.amazonaws.com/h2o/latest_stable.html”\n"
          ]
        },
        {
          "output_type": "stream",
          "name": "stdout",
          "text": [
            "\n",
            "  |======================================================================| 100%\n"
          ]
        }
      ]
    },
    {
      "cell_type": "markdown",
      "source": [
        "InvoiceNo: Número de factura\n",
        "\n",
        "Description: Nombre del producto\n",
        "\n",
        "InvoiceDate: Fecha de la compra\n",
        "\n",
        "CustomerID: ID del cliente\n"
      ],
      "metadata": {
        "id": "eKiIoU0Rmz1A"
      }
    },
    {
      "cell_type": "code",
      "source": [
        "\n",
        "# Define variables\n",
        "y <- \"TotalVentas\"\n",
        "x <- setdiff(names(datos_h2o), c(\"InvoiceNo\", \"InvoiceDate\", \"Description\", \"CustomerID\", y))\n",
        "\n",
        "# Divide datos\n",
        "splits <- h2o.splitFrame(datos_h2o, ratios = 0.8, seed = 123)\n",
        "train <- splits[[1]]\n",
        "test <- splits[[2]]\n",
        "\n",
        "# Modelo de red neuronal\n",
        "modelo_nn <- h2o.deeplearning(\n",
        "  x = x, y = y,\n",
        "  training_frame = train,\n",
        "  activation = \"RectifierWithDropout\",\n",
        "  hidden = c(100, 100),\n",
        "  epochs = 20,\n",
        "  seed = 123\n",
        ")\n"
      ],
      "metadata": {
        "id": "Z8RcNNkhi82z",
        "outputId": "f389340a-d6b8-4cfc-ad24-5d1aeb8fef49",
        "colab": {
          "base_uri": "https://localhost:8080/"
        }
      },
      "execution_count": 5,
      "outputs": [
        {
          "output_type": "stream",
          "name": "stderr",
          "text": [
            "Warning message in .h2o.processResponseWarnings(res):\n",
            "“Dropping bad and constant columns: [StockCode, Country].\n",
            "”\n"
          ]
        },
        {
          "output_type": "stream",
          "name": "stdout",
          "text": [
            "  |======================================================================| 100%\n"
          ]
        }
      ]
    },
    {
      "cell_type": "code",
      "source": [
        "\n",
        "perf <- h2o.performance(modelo_nn, newdata = test)\n",
        "print(h2o.rmse(perf))  # Error cuadrático medio\n"
      ],
      "metadata": {
        "id": "fOzOBI7MjzLj",
        "outputId": "d8b0d83b-78a5-4244-d398-e9be7ab5add3",
        "colab": {
          "base_uri": "https://localhost:8080/"
        }
      },
      "execution_count": 6,
      "outputs": [
        {
          "output_type": "stream",
          "name": "stdout",
          "text": [
            "[1] 517.7921\n"
          ]
        }
      ]
    },
    {
      "cell_type": "code",
      "source": [
        "\n",
        "predicciones <- h2o.predict(modelo_nn, newdata = test)\n",
        "predicciones_df <- as.data.frame(predicciones)\n",
        "head(predicciones_df)\n"
      ],
      "metadata": {
        "id": "Ms925Ue-kcjb",
        "outputId": "f4ef1d55-0ab2-45fe-e3b3-c5a815d49aed",
        "colab": {
          "base_uri": "https://localhost:8080/",
          "height": 321
        }
      },
      "execution_count": 8,
      "outputs": [
        {
          "output_type": "stream",
          "name": "stdout",
          "text": [
            "  |======================================================================| 100%\n"
          ]
        },
        {
          "output_type": "display_data",
          "data": {
            "text/html": [
              "<table class=\"dataframe\">\n",
              "<caption>A data.frame: 6 × 1</caption>\n",
              "<thead>\n",
              "\t<tr><th></th><th scope=col>predict</th></tr>\n",
              "\t<tr><th></th><th scope=col>&lt;dbl&gt;</th></tr>\n",
              "</thead>\n",
              "<tbody>\n",
              "\t<tr><th scope=row>1</th><td>13.66954</td></tr>\n",
              "\t<tr><th scope=row>2</th><td>46.83160</td></tr>\n",
              "\t<tr><th scope=row>3</th><td>24.49170</td></tr>\n",
              "\t<tr><th scope=row>4</th><td>50.64415</td></tr>\n",
              "\t<tr><th scope=row>5</th><td>38.62861</td></tr>\n",
              "\t<tr><th scope=row>6</th><td>35.42170</td></tr>\n",
              "</tbody>\n",
              "</table>\n"
            ],
            "text/markdown": "\nA data.frame: 6 × 1\n\n| <!--/--> | predict &lt;dbl&gt; |\n|---|---|\n| 1 | 13.66954 |\n| 2 | 46.83160 |\n| 3 | 24.49170 |\n| 4 | 50.64415 |\n| 5 | 38.62861 |\n| 6 | 35.42170 |\n\n",
            "text/latex": "A data.frame: 6 × 1\n\\begin{tabular}{r|l}\n  & predict\\\\\n  & <dbl>\\\\\n\\hline\n\t1 & 13.66954\\\\\n\t2 & 46.83160\\\\\n\t3 & 24.49170\\\\\n\t4 & 50.64415\\\\\n\t5 & 38.62861\\\\\n\t6 & 35.42170\\\\\n\\end{tabular}\n",
            "text/plain": [
              "  predict \n",
              "1 13.66954\n",
              "2 46.83160\n",
              "3 24.49170\n",
              "4 50.64415\n",
              "5 38.62861\n",
              "6 35.42170"
            ]
          },
          "metadata": {}
        }
      ]
    },
    {
      "cell_type": "code",
      "source": [
        "\n",
        "reales <- as.data.frame(test[[y]])\n",
        "plot(reales[[1]], predicciones_df[[1]], col=\"blue\", pch=20,\n",
        "     xlab = \"Ventas reales\", ylab = \"Ventas predichas\",\n",
        "     main = \"Ventas reales vs predichas (H2O NN)\")\n",
        "abline(0, 1, col=\"red\")\n"
      ],
      "metadata": {
        "id": "oxZL3hVDkgXS",
        "outputId": "4b3652c0-3813-4992-8caf-4d8dca0eacae",
        "colab": {
          "base_uri": "https://localhost:8080/",
          "height": 437
        }
      },
      "execution_count": 9,
      "outputs": [
        {
          "output_type": "display_data",
          "data": {
            "text/plain": [
              "Plot with title “Ventas reales vs predichas (H2O NN)”"
            ],
            "image/png": "[encoded data removed]"
          },
          "metadata": {
            "image/png": {
              "width": 420,
              "height": 420
            }
          }
        }
      ]
    },
    {
      "cell_type": "code",
      "source": [
        "\n",
        "# Cálculo del error\n",
        "errores <- reales[[1]] - predicciones_df[[1]]\n",
        "\n",
        "# Gráfico\n",
        "plot(reales[[1]], errores, col = \"darkorange\", pch = 20,\n",
        "     xlab = \"Ventas reales\", ylab = \"Error (Real - Predicho)\",\n",
        "     main = \"Gráfico de residuos\")\n",
        "abline(h = 0, col = \"red\")\n"
      ],
      "metadata": {
        "id": "ufCzMo17ksYB",
        "outputId": "79939d37-c758-4455-f942-d59078b0d99b",
        "colab": {
          "base_uri": "https://localhost:8080/",
          "height": 437
        }
      },
      "execution_count": 10,
      "outputs": [
        {
          "output_type": "display_data",
          "data": {
            "text/plain": [
              "Plot with title “Gráfico de residuos”"
            ],
            "image/png": "[encoded data removed]"
          },
          "metadata": {
            "image/png": {
              "width": 420,
              "height": 420
            }
          }
        }
      ]
    },
    {
      "cell_type": "code",
      "source": [
        "\n",
        "hist(errores, breaks = 30, col = \"skyblue\",\n",
        "     main = \"Distribución de errores de predicción\",\n",
        "     xlab = \"Error\", ylab = \"Frecuencia\")\n"
      ],
      "metadata": {
        "id": "LY3DKHbVkvPa",
        "outputId": "2c33630d-076a-4184-ea43-4b7844cfc92d",
        "colab": {
          "base_uri": "https://localhost:8080/",
          "height": 437
        }
      },
      "execution_count": 11,
      "outputs": [
        {
          "output_type": "display_data",
          "data": {
            "text/plain": [
              "Plot with title “Distribución de errores de predicción”"
            ],
            "image/png": "[encoded data removed]"
          },
          "metadata": {
            "image/png": {
              "width": 420,
              "height": 420
            }
          }
        }
      ]
    },
    {
      "cell_type": "code",
      "source": [
        "\n",
        "boxplot(reales[[1]], predicciones_df[[1]],\n",
        "        names = c(\"Reales\", \"Predichas\"),\n",
        "        col = c(\"lightgreen\", \"lightblue\"),\n",
        "        main = \"Boxplot de Ventas Reales y Predichas\")\n"
      ],
      "metadata": {
        "id": "LUS-eTj4lAgb",
        "outputId": "2dfdddbd-9fe4-4c72-f515-0d698074c820",
        "colab": {
          "base_uri": "https://localhost:8080/",
          "height": 437
        }
      },
      "execution_count": 12,
      "outputs": [
        {
          "output_type": "display_data",
          "data": {
            "text/plain": [
              "Plot with title “Boxplot de Ventas Reales y Predichas”"
            ],
            "image/png": "[encoded data removed]"
          },
          "metadata": {
            "image/png": {
              "width": 420,
              "height": 420
            }
          }
        }
      ]
    },
    {
      "cell_type": "code",
      "source": [
        "# Ver número total de filas (observaciones) y columnas (variables)\n",
        "dim(datos)  # Asumiendo que tu dataset se llama 'datos'\n",
        "\n",
        "# O si el nombre es diferente, usa este para verlo primero\n",
        "# head(nombre_archivo_excel)  # para ver el nombre de las variables\n",
        "\n",
        "# Si ya hiciste una partición como esta:\n",
        "set.seed(123)\n",
        "index <- sample(1:nrow(datos), size = 0.8 * nrow(datos))\n",
        "train <- datos[index, ]\n",
        "test <- datos[-index, ]\n",
        "\n",
        "# Tamaño de cada subconjunto\n",
        "cat(\"Total de datos:\", nrow(datos), \"\\n\")\n",
        "cat(\"Datos de entrenamiento:\", nrow(train), \"\\n\")\n",
        "cat(\"Datos de prueba:\", nrow(test), \"\\n\")\n"
      ],
      "metadata": {
        "id": "GeQELLNSlzni",
        "outputId": "85f42dcb-8580-41c7-ffa5-b556a4520f3a",
        "colab": {
          "base_uri": "https://localhost:8080/",
          "height": 86
        }
      },
      "execution_count": 13,
      "outputs": [
        {
          "output_type": "display_data",
          "data": {
            "text/html": [
              "<style>\n",
              ".list-inline {list-style: none; margin:0; padding: 0}\n",
              ".list-inline>li {display: inline-block}\n",
              ".list-inline>li:not(:last-child)::after {content: \"\\00b7\"; padding: 0 .5ex}\n",
              "</style>\n",
              "<ol class=list-inline><li>406829</li><li>9</li></ol>\n"
            ],
            "text/markdown": "1. 406829\n2. 9\n\n\n",
            "text/latex": "\\begin{enumerate*}\n\\item 406829\n\\item 9\n\\end{enumerate*}\n",
            "text/plain": [
              "[1] 406829      9"
            ]
          },
          "metadata": {}
        },
        {
          "output_type": "stream",
          "name": "stdout",
          "text": [
            "Total de datos: 406829 \n",
            "Datos de entrenamiento: 325463 \n",
            "Datos de prueba: 81366 \n"
          ]
        }
      ]
    },
    {
      "cell_type": "code",
      "source": [
        "summary(as.data.frame(datos_h2o)$TotalVentas)\n"
      ],
      "metadata": {
        "colab": {
          "base_uri": "https://localhost:8080/",
          "height": 52
        },
        "id": "2OCSSQ8Knzy_",
        "outputId": "1f653d9f-8553-4252-fd79-a69f4bbc7611"
      },
      "execution_count": 16,
      "outputs": [
        {
          "output_type": "display_data",
          "data": {
            "text/plain": [
              "     Min.   1st Qu.    Median      Mean   3rd Qu.      Max. \n",
              "-168469.6       4.2      11.1      20.4      19.5  168469.6 "
            ]
          },
          "metadata": {}
        }
      ]
    },
    {
      "cell_type": "code",
      "source": [
        "# RMSE\n",
        "rmse <- sqrt(517.7921)\n",
        "cat(\"RMSE:\", rmse, \"\\n\")  # Esto te dirá el error promedio en las unidades originales\n",
        "\n"
      ],
      "metadata": {
        "id": "_4G667fBndJ_",
        "outputId": "54dc95e3-23b1-4095-b629-0eae05416d80",
        "colab": {
          "base_uri": "https://localhost:8080/"
        }
      },
      "execution_count": 15,
      "outputs": [
        {
          "output_type": "stream",
          "name": "stdout",
          "text": [
            "RMSE: 22.75505 \n"
          ]
        }
      ]
    }
  ],
  "metadata": {
    "colab": {
      "name": "Te damos la bienvenida a Colaboratory",
      "provenance": [],
      "include_colab_link": true
    },
    "kernelspec": {
      "display_name": "R",
      "name": "ir"
    },
    "language_info": {
      "name": "R"
    }
  },
  "nbformat": 4,
  "nbformat_minor": 0
}